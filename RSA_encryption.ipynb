{
  "nbformat": 4,
  "nbformat_minor": 0,
  "metadata": {
    "colab": {
      "name": "Untitled7.ipynb",
      "provenance": [],
      "authorship_tag": "ABX9TyPi2r9+tZCIdCjbmMBZy56K",
      "include_colab_link": true
    },
    "kernelspec": {
      "name": "python3",
      "display_name": "Python 3"
    },
    "language_info": {
      "name": "python"
    }
  },
  "cells": [
    {
      "cell_type": "markdown",
      "metadata": {
        "id": "view-in-github",
        "colab_type": "text"
      },
      "source": [
        "<a href=\"https://colab.research.google.com/github/aryan-sharma21/RSA_Encryption/blob/main/RSA_encryption.ipynb\" target=\"_parent\"><img src=\"https://colab.research.google.com/assets/colab-badge.svg\" alt=\"Open In Colab\"/></a>"
      ]
    },
    {
      "cell_type": "code",
      "metadata": {
        "colab": {
          "base_uri": "https://localhost:8080/"
        },
        "id": "Fj22eXYGWgxO",
        "outputId": "b9d97896-4344-4416-a788-c2b98ecc6029"
      },
      "source": [
        "# coding=utf-8\n",
        "from random import randint\n",
        "import math\n",
        "\n",
        "# generate random prime function\n",
        "def generate_prime():\n",
        "\tx = randint(90, 300)\n",
        "\twhile True:\n",
        "\t\tif is_prime(x):\n",
        "\t\t\tbreak\n",
        "\t\telse:\n",
        "\t\t\tx += 1\n",
        "\treturn x\n",
        "\n",
        "# primality check function\n",
        "def is_prime(x):\n",
        "\ti = 2\n",
        "\troot = math.ceil(math.sqrt(x))\n",
        "\twhile i <= root:\n",
        "\t\tif x % i == 0:\n",
        "\t\t\treturn False\n",
        "\t\ti += 1\n",
        "\treturn True\n",
        "\n",
        "# function to find gcd\n",
        "def gcd(a, b):\n",
        "\twhile b:\n",
        "\t\ta, b = b, a%b\n",
        "\treturn a\n",
        "\n",
        "# function to find extended gcd\n",
        "def egcd(a, b):\n",
        "\tif a == 0:\n",
        "\t\treturn (b, 0, 1)\n",
        "\telse:\n",
        "\t\tg, y, x = egcd(b % a, a)\n",
        "\t\treturn (g, x - (b // a) * y, y)\n",
        "\n",
        "# function to find modular inverse\n",
        "def modinv(a,m):\n",
        "\tg,x,y = egcd(a,m)\n",
        "\tif g != 1:\n",
        "\t\treturn None\n",
        "\telse:\n",
        "\t\treturn x%m\n",
        "\n",
        "\n",
        "# choose 2 distinct primes p & q\n",
        "p = generate_prime()\n",
        "while True:\n",
        "  q = generate_prime()\n",
        "  if q != p:\n",
        "    break\n",
        "print(\"p = %d\" % p)\n",
        "print(\"q = %d\" % q)\n",
        "\n",
        "# compute n = pq\n",
        "n = p * q\n",
        "\n",
        "# compute φ(n), where φ is the Euler's totient function\n",
        "n1 = (p - 1) * (q - 1)\n",
        "\n",
        "# Choose 1 < e < φ(n), which is coprime to φ(n)\n",
        "# e is public key exponent\n",
        "r = randint(2,100) # For efficiency 2 < e < 100\n",
        "while True:\n",
        "  if gcd(r, n1) == 1:\n",
        "      break\n",
        "  else:\n",
        "    r += 1\n",
        "e = r\n",
        "print(\"e = %d\" % e)\n",
        "\n",
        "# Compute d, the modular multiplicative inverse of e\n",
        "# Private key exponent d\n",
        "d = modinv(e, n1)\n",
        "print(\"d = %d\" % d)\n",
        "\n",
        "m = input(\"Enter message: \")\n",
        "ascii_values = []\n",
        "for character in m:\n",
        "  ascii_values.append(ord(character))\n",
        "\n",
        "\n",
        "enclist=[]\n",
        "declist=[]\n",
        "\n",
        "for ele in ascii_values:\n",
        "  # Encryption of m\n",
        "  c = (ele**e) % n\n",
        "  #print(\"Encrypted message = %d\" % c)\n",
        "\n",
        "  enclist.append(str(c))\n",
        "  \n",
        "  # Decryption of m\n",
        "  m1 = (c**d) % n\n",
        "  #print(\"Decrypted message = %d\" % m1)\n",
        "  declist.append(chr(m1))\n",
        "\n",
        "print(\"Encrypted Message: \",''.join(enclist))\n",
        "print(\"Decrypted Message: \",''.join(declist))\n"
      ],
      "execution_count": null,
      "outputs": [
        {
          "output_type": "stream",
          "name": "stdout",
          "text": [
            "p = 223\n",
            "q = 307\n",
            "e = 83\n",
            "d = 19643\n",
            "Enter message: 567\n",
            "Encrypted Message:  396492828063052\n",
            "Decrypted Message:  567\n"
          ]
        }
      ]
    }
  ]
}